{
 "cells": [
  {
   "cell_type": "markdown",
   "id": "marine-stock",
   "metadata": {},
   "source": [
    "# Exercise with A/B Testing\n",
    "\n",
    "### Prompt\n",
    "\n",
    "Let’s imagine you work on the For You Page at TikTok. Your team decides that instead of a heart button, they want to change it to star hoping that it will lead to a higher engagement/like rate. The product manager told you that the current conversion rate is about 6% on average throughout the year, and that the team would be happy with an increase of 3%, meaning that the new design will be considered a success if it raises the engagement rate to 9%.\n",
    "\n",
    "Before rolling out the change, the team would be more comfortable testing it on a small number of users to see how it performs, so you suggest running an A/B test on a subset of the user base users."
   ]
  },
  {
   "cell_type": "code",
   "execution_count": 1,
   "id": "streaming-honor",
   "metadata": {},
   "outputs": [],
   "source": [
    "# Packages imports\n",
    "import numpy as np\n",
    "import pandas as pd\n",
    "\n",
    "# probability distributions & statistical functions\n",
    "import scipy.stats as stats\n",
    "\n",
    "# estimating statistical models\n",
    "import statsmodels.stats.api as sms\n",
    "\n",
    "import matplotlib.pyplot as plt\n",
    "import seaborn as sns\n",
    "\n",
    "#rounding function\n",
    "from math import ceil\n"
   ]
  },
  {
   "cell_type": "markdown",
   "id": "seeing-worse",
   "metadata": {},
   "source": [
    "### Sample Size Calculation"
   ]
  },
  {
   "cell_type": "code",
   "execution_count": 2,
   "id": "popular-permit",
   "metadata": {},
   "outputs": [
    {
     "name": "stdout",
     "output_type": "stream",
     "text": [
      "-0.11445118168989943\n"
     ]
    }
   ],
   "source": [
    "# Calculate effect size based on our expected rates\n",
    "effect_size = sms.proportion_effectsize(0.06, 0.09)    \n",
    "print(effect_size)\n",
    "\n",
    "\n",
    "required_n = sms.NormalIndPower().solve_power( \n",
    "    effect_size, \n",
    "    power=0.8, \n",
    "    alpha=0.05, \n",
    "    ratio=1)"
   ]
  },
  {
   "cell_type": "code",
   "execution_count": 3,
   "id": "moving-regression",
   "metadata": {},
   "outputs": [
    {
     "name": "stdout",
     "output_type": "stream",
     "text": [
      "1199\n"
     ]
    }
   ],
   "source": [
    "# Calculate sample size needed\n",
    "\n",
    "required_n = ceil(required_n)                                             \n",
    "print(required_n)"
   ]
  },
  {
   "cell_type": "markdown",
   "id": "crucial-editing",
   "metadata": {},
   "source": [
    "### Collecting and preparing the data"
   ]
  },
  {
   "cell_type": "code",
   "execution_count": 14,
   "id": "literary-separate",
   "metadata": {},
   "outputs": [
    {
     "data": {
      "text/html": [
       "<div>\n",
       "<style scoped>\n",
       "    .dataframe tbody tr th:only-of-type {\n",
       "        vertical-align: middle;\n",
       "    }\n",
       "\n",
       "    .dataframe tbody tr th {\n",
       "        vertical-align: top;\n",
       "    }\n",
       "\n",
       "    .dataframe thead th {\n",
       "        text-align: right;\n",
       "    }\n",
       "</style>\n",
       "<table border=\"1\" class=\"dataframe\">\n",
       "  <thead>\n",
       "    <tr style=\"text-align: right;\">\n",
       "      <th></th>\n",
       "      <th>user_id</th>\n",
       "      <th>timestamp</th>\n",
       "      <th>group</th>\n",
       "      <th>button</th>\n",
       "      <th>liked</th>\n",
       "    </tr>\n",
       "  </thead>\n",
       "  <tbody>\n",
       "    <tr>\n",
       "      <th>0</th>\n",
       "      <td>767017</td>\n",
       "      <td>2017-01-12 22:58:15</td>\n",
       "      <td>control</td>\n",
       "      <td>star</td>\n",
       "      <td>0</td>\n",
       "    </tr>\n",
       "    <tr>\n",
       "      <th>1</th>\n",
       "      <td>793849</td>\n",
       "      <td>2017-01-23 22:36:11</td>\n",
       "      <td>treatment</td>\n",
       "      <td>star</td>\n",
       "      <td>0</td>\n",
       "    </tr>\n",
       "    <tr>\n",
       "      <th>2</th>\n",
       "      <td>905617</td>\n",
       "      <td>2017-01-20 14:12:19</td>\n",
       "      <td>treatment</td>\n",
       "      <td>star</td>\n",
       "      <td>0</td>\n",
       "    </tr>\n",
       "    <tr>\n",
       "      <th>3</th>\n",
       "      <td>746742</td>\n",
       "      <td>2017-01-23 11:38:30</td>\n",
       "      <td>control</td>\n",
       "      <td>heart</td>\n",
       "      <td>0</td>\n",
       "    </tr>\n",
       "    <tr>\n",
       "      <th>4</th>\n",
       "      <td>892356</td>\n",
       "      <td>2017-01-05 9:35:15</td>\n",
       "      <td>treatment</td>\n",
       "      <td>star</td>\n",
       "      <td>1</td>\n",
       "    </tr>\n",
       "  </tbody>\n",
       "</table>\n",
       "</div>"
      ],
      "text/plain": [
       "   user_id            timestamp      group button  liked\n",
       "0   767017  2017-01-12 22:58:15    control   star      0\n",
       "1   793849  2017-01-23 22:36:11  treatment   star      0\n",
       "2   905617  2017-01-20 14:12:19  treatment   star      0\n",
       "3   746742  2017-01-23 11:38:30    control  heart      0\n",
       "4   892356   2017-01-05 9:35:15  treatment   star      1"
      ]
     },
     "execution_count": 14,
     "metadata": {},
     "output_type": "execute_result"
    }
   ],
   "source": [
    "# Load the tiktok_data.csv into a dataframe\n",
    "\n",
    "df = pd.read_csv('data/tiktok_data.csv')\n",
    "df.head()"
   ]
  },
  {
   "cell_type": "code",
   "execution_count": 12,
   "id": "described-matrix",
   "metadata": {},
   "outputs": [
    {
     "name": "stdout",
     "output_type": "stream",
     "text": [
      "<class 'pandas.core.frame.DataFrame'>\n",
      "RangeIndex: 275781 entries, 0 to 275780\n",
      "Data columns (total 5 columns):\n",
      " #   Column     Non-Null Count   Dtype \n",
      "---  ------     --------------   ----- \n",
      " 0   user_id    275781 non-null  int64 \n",
      " 1   timestamp  275781 non-null  object\n",
      " 2   group      275781 non-null  object\n",
      " 3   button     275781 non-null  object\n",
      " 4   liked      275781 non-null  int64 \n",
      "dtypes: int64(2), object(3)\n",
      "memory usage: 10.5+ MB\n"
     ]
    }
   ],
   "source": [
    "# Get the info of the dataframe\n",
    "\n",
    "df.info()"
   ]
  },
  {
   "cell_type": "code",
   "execution_count": 16,
   "id": "metallic-providence",
   "metadata": {},
   "outputs": [
    {
     "name": "stderr",
     "output_type": "stream",
     "text": [
      "/var/folders/hh/qk4l6xwd65q9lfgxhl3nkd4w0000gn/T/ipykernel_1437/1248117094.py:6: UserWarning: Boolean Series key will be reindexed to match DataFrame index.\n",
      "  df_control = df_control[df['button'] != 'star'].copy() #select all control group that does not see stars\n",
      "/var/folders/hh/qk4l6xwd65q9lfgxhl3nkd4w0000gn/T/ipykernel_1437/1248117094.py:9: UserWarning: Boolean Series key will be reindexed to match DataFrame index.\n",
      "  df_treat = df_treat[df['button'] != 'heart'].copy() #select all treatment group that does not see hearts\n"
     ]
    },
    {
     "data": {
      "text/plain": [
       "(272110, 5)"
      ]
     },
     "execution_count": 16,
     "metadata": {},
     "output_type": "execute_result"
    }
   ],
   "source": [
    "# Make sure all the control group are seeing the hearts button and viceversa\n",
    "\n",
    "# pd.crosstab(df['group'], df['button'] ) #most control group sees hearts, treatment see mostly stars\n",
    "\n",
    "df_control = df[(df['group'] == 'control')].copy() #grab all the control group\n",
    "df_control = df_control[df['button'] != 'star'].copy() #select all control group that does not see stars \n",
    "\n",
    "df_treat = df[df['group'] == 'treatment'].copy() #grab all the treatment group\n",
    "df_treat = df_treat[df['button'] != 'heart'].copy() #select all treatment group that does not see hearts\n",
    "\n",
    "df_clean = pd.concat([df_control, df_treat], ignore_index=True) #put those two groups together\n",
    "df = df_clean.copy() #replace old_df with new_df\n",
    "df.shape"
   ]
  },
  {
   "cell_type": "code",
   "execution_count": 17,
   "id": "fancy-lucas",
   "metadata": {},
   "outputs": [
    {
     "name": "stdout",
     "output_type": "stream",
     "text": [
      "1\n"
     ]
    }
   ],
   "source": [
    "# Check that no users have been sampled multiple times \n",
    "\n",
    "session_count = df['user_id'].value_counts()\n",
    "multi_user = session_count[session_count > 1].count()\n",
    "print(multi_user)"
   ]
  },
  {
   "cell_type": "code",
   "execution_count": 18,
   "id": "appreciated-thomas",
   "metadata": {},
   "outputs": [
    {
     "name": "stdout",
     "output_type": "stream",
     "text": [
      "(272110, 5)\n",
      "(272108, 5)\n"
     ]
    }
   ],
   "source": [
    "# If there are users who have been sampled multiple times, remove them from the dataframe\n",
    "\n",
    "print(df.shape)\n",
    "\n",
    "users_to_drop = session_count[session_count > 1].index\n",
    "\n",
    "df = df[~df['user_id'].isin(users_to_drop)]\n",
    "\n",
    "print(df.shape)"
   ]
  },
  {
   "cell_type": "markdown",
   "id": "skilled-apple",
   "metadata": {},
   "source": [
    "#### Now that our DataFrame is nice and clean, we can proceed and sample n=4720 entries for each of the groups. We can use pandas' DataFrame.sample() method to do this, which will perform Simple Random Sampling for us."
   ]
  },
  {
   "cell_type": "code",
   "execution_count": 19,
   "id": "absolute-runner",
   "metadata": {},
   "outputs": [
    {
     "data": {
      "text/html": [
       "<div>\n",
       "<style scoped>\n",
       "    .dataframe tbody tr th:only-of-type {\n",
       "        vertical-align: middle;\n",
       "    }\n",
       "\n",
       "    .dataframe tbody tr th {\n",
       "        vertical-align: top;\n",
       "    }\n",
       "\n",
       "    .dataframe thead th {\n",
       "        text-align: right;\n",
       "    }\n",
       "</style>\n",
       "<table border=\"1\" class=\"dataframe\">\n",
       "  <thead>\n",
       "    <tr style=\"text-align: right;\">\n",
       "      <th>button</th>\n",
       "      <th>heart</th>\n",
       "      <th>star</th>\n",
       "    </tr>\n",
       "    <tr>\n",
       "      <th>group</th>\n",
       "      <th></th>\n",
       "      <th></th>\n",
       "    </tr>\n",
       "  </thead>\n",
       "  <tbody>\n",
       "    <tr>\n",
       "      <th>control</th>\n",
       "      <td>136002</td>\n",
       "      <td>0</td>\n",
       "    </tr>\n",
       "    <tr>\n",
       "      <th>treatment</th>\n",
       "      <td>0</td>\n",
       "      <td>136106</td>\n",
       "    </tr>\n",
       "  </tbody>\n",
       "</table>\n",
       "</div>"
      ],
      "text/plain": [
       "button      heart    star\n",
       "group                    \n",
       "control    136002       0\n",
       "treatment       0  136106"
      ]
     },
     "execution_count": 19,
     "metadata": {},
     "output_type": "execute_result"
    }
   ],
   "source": [
    "# Perform simple random sampling to split the data into control and treatment\n",
    "pd.crosstab(df['group'], df['button'])\n"
   ]
  },
  {
   "cell_type": "code",
   "execution_count": 22,
   "id": "durable-belfast",
   "metadata": {},
   "outputs": [
    {
     "data": {
      "text/html": [
       "<div>\n",
       "<style scoped>\n",
       "    .dataframe tbody tr th:only-of-type {\n",
       "        vertical-align: middle;\n",
       "    }\n",
       "\n",
       "    .dataframe tbody tr th {\n",
       "        vertical-align: top;\n",
       "    }\n",
       "\n",
       "    .dataframe thead th {\n",
       "        text-align: right;\n",
       "    }\n",
       "</style>\n",
       "<table border=\"1\" class=\"dataframe\">\n",
       "  <thead>\n",
       "    <tr style=\"text-align: right;\">\n",
       "      <th></th>\n",
       "      <th>user_id</th>\n",
       "      <th>timestamp</th>\n",
       "      <th>group</th>\n",
       "      <th>button</th>\n",
       "      <th>liked</th>\n",
       "    </tr>\n",
       "  </thead>\n",
       "  <tbody>\n",
       "    <tr>\n",
       "      <th>0</th>\n",
       "      <td>743360</td>\n",
       "      <td>2017-01-04 23:12:43</td>\n",
       "      <td>control</td>\n",
       "      <td>heart</td>\n",
       "      <td>0</td>\n",
       "    </tr>\n",
       "    <tr>\n",
       "      <th>1</th>\n",
       "      <td>781031</td>\n",
       "      <td>2017-01-04 7:32:58</td>\n",
       "      <td>control</td>\n",
       "      <td>heart</td>\n",
       "      <td>0</td>\n",
       "    </tr>\n",
       "    <tr>\n",
       "      <th>2</th>\n",
       "      <td>726048</td>\n",
       "      <td>2017-01-24 7:42:28</td>\n",
       "      <td>control</td>\n",
       "      <td>heart</td>\n",
       "      <td>0</td>\n",
       "    </tr>\n",
       "    <tr>\n",
       "      <th>3</th>\n",
       "      <td>852931</td>\n",
       "      <td>2017-01-09 0:34:11</td>\n",
       "      <td>control</td>\n",
       "      <td>heart</td>\n",
       "      <td>0</td>\n",
       "    </tr>\n",
       "    <tr>\n",
       "      <th>4</th>\n",
       "      <td>709201</td>\n",
       "      <td>2017-01-04 23:03:53</td>\n",
       "      <td>control</td>\n",
       "      <td>heart</td>\n",
       "      <td>0</td>\n",
       "    </tr>\n",
       "    <tr>\n",
       "      <th>...</th>\n",
       "      <td>...</td>\n",
       "      <td>...</td>\n",
       "      <td>...</td>\n",
       "      <td>...</td>\n",
       "      <td>...</td>\n",
       "    </tr>\n",
       "    <tr>\n",
       "      <th>2393</th>\n",
       "      <td>769236</td>\n",
       "      <td>2017-01-12 8:32:44</td>\n",
       "      <td>treatment</td>\n",
       "      <td>star</td>\n",
       "      <td>0</td>\n",
       "    </tr>\n",
       "    <tr>\n",
       "      <th>2394</th>\n",
       "      <td>644925</td>\n",
       "      <td>2017-01-19 8:18:56</td>\n",
       "      <td>treatment</td>\n",
       "      <td>star</td>\n",
       "      <td>0</td>\n",
       "    </tr>\n",
       "    <tr>\n",
       "      <th>2395</th>\n",
       "      <td>836678</td>\n",
       "      <td>2017-01-11 0:36:05</td>\n",
       "      <td>treatment</td>\n",
       "      <td>star</td>\n",
       "      <td>0</td>\n",
       "    </tr>\n",
       "    <tr>\n",
       "      <th>2396</th>\n",
       "      <td>882459</td>\n",
       "      <td>2017-01-13 17:27:09</td>\n",
       "      <td>treatment</td>\n",
       "      <td>star</td>\n",
       "      <td>0</td>\n",
       "    </tr>\n",
       "    <tr>\n",
       "      <th>2397</th>\n",
       "      <td>700122</td>\n",
       "      <td>2017-01-03 14:49:28</td>\n",
       "      <td>treatment</td>\n",
       "      <td>star</td>\n",
       "      <td>0</td>\n",
       "    </tr>\n",
       "  </tbody>\n",
       "</table>\n",
       "<p>2398 rows × 5 columns</p>\n",
       "</div>"
      ],
      "text/plain": [
       "      user_id            timestamp      group button  liked\n",
       "0      743360  2017-01-04 23:12:43    control  heart      0\n",
       "1      781031   2017-01-04 7:32:58    control  heart      0\n",
       "2      726048   2017-01-24 7:42:28    control  heart      0\n",
       "3      852931   2017-01-09 0:34:11    control  heart      0\n",
       "4      709201  2017-01-04 23:03:53    control  heart      0\n",
       "...       ...                  ...        ...    ...    ...\n",
       "2393   769236   2017-01-12 8:32:44  treatment   star      0\n",
       "2394   644925   2017-01-19 8:18:56  treatment   star      0\n",
       "2395   836678   2017-01-11 0:36:05  treatment   star      0\n",
       "2396   882459  2017-01-13 17:27:09  treatment   star      0\n",
       "2397   700122  2017-01-03 14:49:28  treatment   star      0\n",
       "\n",
       "[2398 rows x 5 columns]"
      ]
     },
     "execution_count": 22,
     "metadata": {},
     "output_type": "execute_result"
    }
   ],
   "source": [
    "# Create one table called ab_test that has both the cleaned control and treatment data\n",
    "control_group = df[df['group'] == 'control'].sample(n=required_n, random_state=444)\n",
    "treatment_group = df[df['group'] == 'treatment'].sample(n=required_n, random_state=444)\n",
    "\n",
    "ab_test = pd.concat([control_group, treatment_group], axis=0)\n",
    "ab_test.reset_index(drop=True, inplace=True)\n",
    "ab_test"
   ]
  },
  {
   "cell_type": "code",
   "execution_count": 25,
   "id": "conservative-occasions",
   "metadata": {},
   "outputs": [
    {
     "data": {
      "text/plain": [
       "control      1199\n",
       "treatment    1199\n",
       "Name: group, dtype: int64"
      ]
     },
     "execution_count": 25,
     "metadata": {},
     "output_type": "execute_result"
    }
   ],
   "source": [
    "# Count the test groups to make sure that they're balanced \n",
    "\n",
    "ab_test['group'].value_counts()"
   ]
  },
  {
   "cell_type": "markdown",
   "id": "metric-skill",
   "metadata": {},
   "source": [
    "### Analysis Visualization"
   ]
  },
  {
   "cell_type": "code",
   "execution_count": 27,
   "id": "satisfied-victoria",
   "metadata": {},
   "outputs": [
    {
     "data": {
      "text/html": [
       "<div>\n",
       "<style scoped>\n",
       "    .dataframe tbody tr th:only-of-type {\n",
       "        vertical-align: middle;\n",
       "    }\n",
       "\n",
       "    .dataframe tbody tr th {\n",
       "        vertical-align: top;\n",
       "    }\n",
       "\n",
       "    .dataframe thead th {\n",
       "        text-align: right;\n",
       "    }\n",
       "</style>\n",
       "<table border=\"1\" class=\"dataframe\">\n",
       "  <thead>\n",
       "    <tr style=\"text-align: right;\">\n",
       "      <th></th>\n",
       "      <th>group</th>\n",
       "      <th>std</th>\n",
       "      <th>mean</th>\n",
       "      <th>sem</th>\n",
       "      <th>sum</th>\n",
       "      <th>count</th>\n",
       "    </tr>\n",
       "  </thead>\n",
       "  <tbody>\n",
       "    <tr>\n",
       "      <th>0</th>\n",
       "      <td>control</td>\n",
       "      <td>0.336563</td>\n",
       "      <td>0.130108</td>\n",
       "      <td>0.009720</td>\n",
       "      <td>156</td>\n",
       "      <td>1199</td>\n",
       "    </tr>\n",
       "    <tr>\n",
       "      <th>1</th>\n",
       "      <td>treatment</td>\n",
       "      <td>0.315202</td>\n",
       "      <td>0.111760</td>\n",
       "      <td>0.009103</td>\n",
       "      <td>134</td>\n",
       "      <td>1199</td>\n",
       "    </tr>\n",
       "  </tbody>\n",
       "</table>\n",
       "</div>"
      ],
      "text/plain": [
       "       group       std      mean       sem  sum  count\n",
       "0    control  0.336563  0.130108  0.009720  156   1199\n",
       "1  treatment  0.315202  0.111760  0.009103  134   1199"
      ]
     },
     "execution_count": 27,
     "metadata": {},
     "output_type": "execute_result"
    }
   ],
   "source": [
    "#Find the like rate by group\n",
    "summary_stats = ab_test.groupby('group')['liked'].agg(['std', 'mean', 'sem', 'sum', 'count'])\n",
    "summary_stats = summary_stats.reset_index()\n",
    "summary_stats\n",
    "\n",
    "# Find the Std. deviation of the proportion\n",
    "# control ~ 0.337\n",
    "# treatment ~ 0.315\n",
    "\n",
    "# Find the Std. error of the proportion (std / sqrt(n))\n",
    "# control ~ 0.0097\n",
    "# treatment ~ 0.0091\n",
    "\n",
    "# Calculate the final like rate\n"
   ]
  },
  {
   "cell_type": "code",
   "execution_count": 46,
   "id": "reflected-ecology",
   "metadata": {},
   "outputs": [
    {
     "data": {
      "image/png": "[encoded data removed]",
      "text/plain": [
       "<Figure size 576x432 with 1 Axes>"
      ]
     },
     "metadata": {
      "needs_background": "light"
     },
     "output_type": "display_data"
    }
   ],
   "source": [
    "# Plot the like rate by group on a bar plot\n",
    "\n",
    "plt.figure(figsize=(8,6))\n",
    "\n",
    "sns.barplot(x=ab_test['group'], y=ab_test['liked'])\n",
    "\n",
    "plt.ylim(0, 0.17)\n",
    "\n",
    "plt.title('Liked rate by group', pad=20)\n",
    "plt.xlabel('Group', labelpad=15)\n",
    "plt.ylabel('Liked (proportion)', labelpad=15);"
   ]
  },
  {
   "cell_type": "markdown",
   "id": "adolescent-footage",
   "metadata": {},
   "source": [
    "### Testing for Stat Sig"
   ]
  },
  {
   "cell_type": "code",
   "execution_count": 50,
   "id": "precious-chicken",
   "metadata": {},
   "outputs": [
    {
     "name": "stdout",
     "output_type": "stream",
     "text": [
      "Likes from Control: 1199 \n",
      "Likes from Treatment: 1199\n",
      "Total samples: 2398 \n",
      "Success from Control: 156 \n",
      "Success from Treatment: 134\n"
     ]
    }
   ],
   "source": [
    "from statsmodels.stats.proportion import proportions_ztest, proportion_confint\n",
    "\n",
    "# Get the like count for both control and treatment groups\n",
    "control_results = ab_test[ab_test['group'] == 'control']['liked']\n",
    "treatment_results = ab_test[ab_test['group'] == 'treatment']['liked']\n",
    "\n",
    "n_con = control_results.count()\n",
    "n_treat = treatment_results.count()\n",
    "\n",
    "# Get the number of samples in both groups\n",
    "nobs = [n_con, n_treat]\n",
    "\n",
    "# Sum up the number of successes (likes) in both groups\n",
    "successes = [control_results.sum(), treatment_results.sum()]\n",
    "\n",
    "print(f\"Likes from Control: {n_con} \\nLikes from Treatment: {n_treat}\")\n",
    "print(f\"Total samples: {nobs[0] + nobs[1]} \")\n",
    "print(f\"Success from Control: {successes[0]} \\nSuccess from Treatment: {successes[1]}\")"
   ]
  },
  {
   "cell_type": "code",
   "execution_count": 51,
   "id": "lesbian-emperor",
   "metadata": {},
   "outputs": [],
   "source": [
    "# Find the z statistic and p value for proportions based on normal ztest\n",
    "z_stat, pval = proportions_ztest(\n",
    "    successes,\n",
    "    nobs=nobs)\n",
    "\n",
    "# Find the confidence intervals for each test group\n",
    "(lower_con, lower_treat), (upper_con, upper_treat) = proportion_confint(successes, nobs=nobs, alpha=0.5)\n"
   ]
  },
  {
   "cell_type": "code",
   "execution_count": 53,
   "id": "filled-quality",
   "metadata": {},
   "outputs": [
    {
     "name": "stdout",
     "output_type": "stream",
     "text": [
      "Z Stats: 1.3778849862263354\n",
      "P val: 0.16823880110552658\n",
      "ci 95% for control group: [0.124, 0.137]\n",
      "ci 95% for treatment group: [0.106, 0.118]\n"
     ]
    }
   ],
   "source": [
    "# print z statistic\n",
    "print(f\"Z Stats: {z_stat}\")\n",
    "# print p-value\n",
    "print(f\"P val: {pval}\")\n",
    "# print ci 95% for control group\n",
    "print(f\"ci 95% for control group: [{lower_con:.3f}, {upper_con:.3f}]\")\n",
    "# print ci 95% for treatment group\n",
    "print(f\"ci 95% for treatment group: [{lower_treat:.3f}, {upper_treat:.3f}]\")\n"
   ]
  },
  {
   "cell_type": "markdown",
   "id": "closing-technique",
   "metadata": {},
   "source": [
    "### Were the results signficant? "
   ]
  },
  {
   "cell_type": "code",
   "execution_count": null,
   "id": "respected-uganda",
   "metadata": {},
   "outputs": [],
   "source": [
    "#No our pval exceeded the 0.05 threshold, which means the 'treatment' \n",
    "#did not provide a significant result thus did not lead to higher\n",
    "#engagement/likes"
   ]
  },
  {
   "cell_type": "markdown",
   "id": "connected-tiffany",
   "metadata": {},
   "source": [
    "### What would you advise the engineering team to do moving forward?"
   ]
  },
  {
   "cell_type": "code",
   "execution_count": null,
   "id": "polar-power",
   "metadata": {},
   "outputs": [],
   "source": [
    "#Find a different shape to switch to if you really must change the heart button.\n",
    "#Maybe instead of changing the shapes of the button, maybe reinstate the dislike button."
   ]
  }
 ],
 "metadata": {
  "kernelspec": {
   "display_name": "Python 3 (ipykernel)",
   "language": "python",
   "name": "python3"
  },
  "language_info": {
   "codemirror_mode": {
    "name": "ipython",
    "version": 3
   },
   "file_extension": ".py",
   "mimetype": "text/x-python",
   "name": "python",
   "nbconvert_exporter": "python",
   "pygments_lexer": "ipython3",
   "version": "3.9.7"
  }
 },
 "nbformat": 4,
 "nbformat_minor": 5
}
